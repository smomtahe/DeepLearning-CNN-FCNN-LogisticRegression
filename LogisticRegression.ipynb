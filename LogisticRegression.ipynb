{
  "nbformat": 4,
  "nbformat_minor": 0,
  "metadata": {
    "accelerator": "GPU",
    "colab": {
      "provenance": [],
      "include_colab_link": true
    },
    "kernelspec": {
      "display_name": "Python 3",
      "name": "python3"
    },
    "language_info": {
      "name": "python"
    }
  },
  "cells": [
    {
      "cell_type": "markdown",
      "metadata": {
        "id": "view-in-github",
        "colab_type": "text"
      },
      "source": [
        "<a href=\"https://colab.research.google.com/github/smomtahe/Deep_Neural_Network/blob/main/LogisticRegression.ipynb\" target=\"_parent\"><img src=\"https://colab.research.google.com/assets/colab-badge.svg\" alt=\"Open In Colab\"/></a>"
      ]
    },
    {
      "cell_type": "code",
      "metadata": {
        "id": "K54XHcnusXe8"
      },
      "source": [
        "#Importing libraries\n",
        "%tensorflow_version 2.x\n",
        "import tensorflow as tf\n",
        "import os\n",
        "import io\n",
        "import gzip\n",
        "import math\n",
        "import random\n",
        "import operator\n",
        "import sklearn.model_selection\n",
        "import random\n",
        "import warnings\n",
        "warnings.filterwarnings('ignore')\n",
        "import matplotlib.pyplot as matplot\n",
        "import matplotlib\n",
        "%matplotlib inline\n",
        "import pandas as pd\n",
        "import numpy as np\n",
        "import matplotlib.pyplot as plt\n",
        "import pickle as cPickle\n",
        "import seaborn as sb\n",
        "from time import time\n",
        "from itertools import chain\n",
        "from subprocess import check_output\n",
        "from collections import Counter\n",
        "from PIL import Image\n",
        "from math import ceil\n",
        "from scipy.stats import mode\n",
        "from sklearn.metrics import confusion_matrix\n",
        "from sklearn.metrics import accuracy_score\n",
        "from pandas.plotting import parallel_coordinates\n",
        "from scipy import optimize as op\n",
        "from sklearn.linear_model import LogisticRegression\n",
        "from sklearn.model_selection import train_test_split\n",
        "from sklearn.datasets import load_digits\n",
        "np.set_printoptions(threshold=np.inf)\n",
        "import matplotlib.pyplot as plt\n",
        "import tensorflow as tf\n",
        "import keras\n",
        "import os\n",
        "import glob\n",
        "import pandas as pd\n",
        "import seaborn as sns\n",
        "from tensorflow.keras.models import Sequential\n",
        "from tensorflow.keras.layers import Dense, Dropout, Activation, Flatten, Conv2D\n",
        "from tensorflow.keras.layers import MaxPooling2D, Softmax, BatchNormalization\n",
        "from keras.preprocessing.image import ImageDataGenerator\n",
        "from keras.layers import Activation, Dropout, Flatten, Dense,Input,Multiply\n",
        "from keras.optimizers import SGD\n",
        "from keras.layers import LeakyReLU\n",
        "from keras.preprocessing.image import ImageDataGenerator\n",
        "from keras.layers import Convolution2D, MaxPooling2D, ZeroPadding2D\n",
        "%matplotlib inline\n",
        "from tensorflow.keras.applications import InceptionV3\n",
        "from keras.preprocessing.image import load_img, img_to_array\n",
        "resnet_weights_path='https://github.com/fchollet/deep-learning-models/releases/download/v0.2/resnet50_weights_tf_dim_ordering_tf_kernels_notop.h'\n",
        "\n"
      ],
      "execution_count": null,
      "outputs": []
    },
    {
      "cell_type": "code",
      "metadata": {
        "colab": {
          "base_uri": "https://localhost:8080/"
        },
        "id": "wQtyHujS_6Ek",
        "outputId": "ae4e608a-ce1b-4958-fa77-9f8c65232ea8"
      },
      "source": [
        "from google.colab import drive\n",
        "drive.mount('/content/drive')\n",
        "!unrar x \"/content/toronto_face.rar\"\n",
        "# !cp  \"/content/drive/MyDrive/data_to_process/toronto_face.rar\"  ./"
      ],
      "execution_count": null,
      "outputs": [
        {
          "output_type": "stream",
          "text": [
            "Mounted at /content/drive\n",
            "\n",
            "UNRAR 5.50 freeware      Copyright (c) 1993-2017 Alexander Roshal\n",
            "\n",
            "\n",
            "Extracting from /content/toronto_face.rar\n",
            "\n",
            "Creating    toronto_face                                              OK\n",
            "Extracting  toronto_face/.DS_Store                                       \b\b\b\b  0%\b\b\b\b\b  OK \n",
            "Extracting  toronto_face/toronto_face.npz                                \b\b\b\b 34%\b\b\b\b 69%\b\b\b\b 99%\b\b\b\b\b  OK \n",
            "All OK\n"
          ],
          "name": "stdout"
        }
      ]
    },
    {
      "cell_type": "code",
      "metadata": {
        "colab": {
          "base_uri": "https://localhost:8080/",
          "height": 385
        },
        "id": "x8q_Kn5edocv",
        "outputId": "9f7f1645-f125-4bcb-92dd-5a0cd15ae72b"
      },
      "source": [
        "try:\n",
        "    %tensorflow_version 2.x\n",
        "    %load_ext tensorboard\n",
        "    print('load tensflow 2.x and tensorboard')\n",
        "except:\n",
        "    print('not run code')\n",
        "\n",
        "#load data\n",
        "def load_data(file_name):\n",
        "    npzfile = np.load(file_name)\n",
        "\n",
        "    X_train = npzfile[\"inputs_train\"].T / 255.0\n",
        "    X_valid = npzfile[\"inputs_valid\"].T / 255.0\n",
        "    X_test = npzfile[\"inputs_test\"].T / 255.0\n",
        "    Y_train = npzfile[\"target_train\"].tolist()\n",
        "    Y_valid = npzfile[\"target_valid\"].tolist()\n",
        "    Y_test = npzfile[\"target_test\"].tolist()\n",
        "\n",
        "    num_class = max(Y_train + Y_valid + Y_test) + 1\n",
        "    Y_train_1hot = np.zeros([num_class, len(Y_train)])\n",
        "    Y_valid_1hot = np.zeros([num_class, len(Y_valid)])\n",
        "    Y_test_1hot = np.zeros([num_class, len(Y_test)])\n",
        "\n",
        "    for ii, xx in enumerate(Y_train):\n",
        "        Y_train_1hot[xx, ii] = 1.0\n",
        "\n",
        "    for ii, xx in enumerate(Y_valid):\n",
        "        Y_valid_1hot[xx, ii] = 1.0\n",
        "\n",
        "    for ii, xx in enumerate(Y_test):\n",
        "        Y_test_1hot[xx, ii] = 1.0\n",
        "\n",
        "\n",
        "    return X_train.T, X_valid.T, X_test.T, Y_train_1hot.T, Y_valid_1hot.T, Y_test_1hot.T\n",
        "\n",
        "#*Run* the next cell to load the dataset you are going to use.\n",
        "X_train, X_valid, X_test, Y_train, Y_valid, Y_test = load_data(\"/content/toronto_face/toronto_face.npz\")\n",
        "from google.colab import drive\n",
        "drive.mount('/content/drive')\n",
        "print(\"train data shape\",X_train.shape)\n",
        "print(\"test data shape\",X_test.shape)\n",
        "print(\"validation data shape\",X_valid.shape)\n",
        "\n",
        "###**Now**, take a look at an example of a labelled image in the dataset Feel free to change the value of index below and re-run to see different examples.\n",
        "ix = 10;\n",
        "plt.figure(ix)\n",
        "plt.imshow(X_train[ix].reshape((48, 48)), interpolation='none', cmap='gray')\n",
        "plt.show()"
      ],
      "execution_count": null,
      "outputs": [
        {
          "output_type": "stream",
          "text": [
            "The tensorboard extension is already loaded. To reload it, use:\n",
            "  %reload_ext tensorboard\n",
            "load tensflow 2.x and tensorboard\n",
            "Drive already mounted at /content/drive; to attempt to forcibly remount, call drive.mount(\"/content/drive\", force_remount=True).\n",
            "train data shape (3374, 2304)\n",
            "test data shape (385, 2304)\n",
            "validation data shape (419, 2304)\n"
          ],
          "name": "stdout"
        },
        {
          "output_type": "display_data",
          "data": {
            "image/png": "[encoded data removed]",
            "text/plain": [
              "<Figure size 432x288 with 1 Axes>"
            ]
          },
          "metadata": {
            "tags": [],
            "needs_background": "light"
          }
        }
      ]
    },
    {
      "cell_type": "markdown",
      "metadata": {
        "id": "g3MIwVMjeH5W"
      },
      "source": [
        "**Logistic Regression**\n",
        "\n"
      ]
    },
    {
      "cell_type": "code",
      "metadata": {
        "id": "eRBtsKozeGly"
      },
      "source": [
        "train=(X_train.astype('float32') *0.09/255) +0.01\n",
        "test=(X_test.astype('float32')*0.09 /255)+0.01\n",
        "\n",
        "train = (train - np.min(train)) / (np.max(train) - np.min(train))\n",
        "test = (test - np.min(test)) / (np.max(test) - np.min(test))\n",
        "\n",
        "trlab=Y_train\n",
        "tslab=Y_test\n",
        "\n",
        "dx1=0\n",
        "dx2=1\n",
        "def filter(x, y):\n",
        "      for i in range (len(x)):\n",
        "        keep = (y == dx1) | (y ==dx2)\n",
        "        y =  y[keep]\n",
        "        x =  x[np.where(keep)[i]]\n",
        "        #y = y == dx1\n",
        "        return x,y.astype(int)\n",
        "X, trlab = filter(train,trlab)\n",
        "test, tslab = filter(test,tslab)\n",
        "\n",
        "#Number of examples\n",
        "m = train.shape[0]\n",
        "#Features\n",
        "n = train.shape[1]\n",
        "#Number of classes\n",
        "k=2\n",
        "lab = [dx1,dx2]\n",
        "intercept = np.ones((X.shape[0], 1))\n",
        "X = np.hstack((intercept, X))\n",
        "intercept = np.ones((test.shape[0], 1))\n",
        "test = np.hstack((intercept, test))\n",
        "#print(test.shape)\n",
        "trlab[:10]\n",
        "\n",
        "def error_rate(confusion_matrix):\n",
        "    a = confusion_matrix\n",
        "    b = a.sum(axis=1)\n",
        "    df = []\n",
        "    for i in range(0,2):\n",
        "        temp = 1-a[i][i]/b[i]\n",
        "        df.append(temp)\n",
        "    df = pd.DataFrame(df)\n",
        "    df.columns = ['% Error rate']\n",
        "    return df*100\n",
        "\n",
        "def sigmoid(z):\n",
        "  return 1.0 / (1 + np.exp(-z))\n",
        "\n",
        "#Regularized cost function\n",
        "def regCostFunction(theta, X, y, L = 0.1, batch_size= 5): # L is the lambda\n",
        "    h = sigmoid(np.dot(X,theta))  #hypothesis\n",
        "\n",
        "    J=np.sum(-y * np.log(h) - (1 - y) * np.log(1 - h)) / len(h)\n",
        "    #print(J)  #print cost\n",
        "    return J\n",
        "\n",
        "#Regularized gradient function\n",
        "def regGradient(X, y, theta, L , iteration, batch_size):\n",
        "    #print(y[:3]) # actual 0 ,1\n",
        "    m, n = X.shape\n",
        "    all_theta=[]\n",
        "    cost_history = np.zeros(iteration)\n",
        "    theta=(np.ones((n ,)) * -1)\n",
        "\n",
        "    max_iters = 100\n",
        "    for itr in range(iteration):\n",
        "      cost=0\n",
        "      for i in range(0,len(X),batch_size):\n",
        "        h = sigmoid(X.dot(theta))\n",
        "        tmp = np.copy(theta)\n",
        "        tmp[0] = 0\n",
        "        reg = L*tmp/m\n",
        "        alpha=0.1\n",
        "        theta = theta*(1-2*alpha*L) -(1/m)*alpha*( X.T.dot((h - y)))\n",
        "        #print(theta)\n",
        "        cost+=regCostFunction(theta, X, y, L = 0.1, batch_size= 5) + L* np.sum(np.power(theta,2))\n",
        "      cost_history[itr]= cost\n",
        "      all_theta.append(theta)\n",
        "    plt.plot(cost_history)\n",
        "    plt.xlabel(\" Iteration  \")\n",
        "    plt.ylabel(\" Cost \")\n",
        "    #plt.show()\n",
        "    return all_theta, theta, cost_history\n",
        "#Training\n",
        "iteration=100\n",
        "L=0.01\n",
        "alpha=0.1\n",
        "temp=[dx1] # first digit\n",
        "#set the labels in -1 and 1\n",
        "tmp_y = np.array(trlab == temp, dtype = int)\n",
        "#print(tmp_y)   #y actual 0,1\n",
        "all_theta, theta, cost_history= regGradient(X, tmp_y, (np.ones((n + 1,1)) * -1),L , iteration, batch_size = 5)"
      ],
      "execution_count": null,
      "outputs": []
    },
    {
      "cell_type": "code",
      "metadata": {
        "id": "Zi565LHvk52b"
      },
      "source": [
        "#prediction\n",
        "#compute accuracy\n",
        "P = sigmoid(test.dot(theta)) #probability for each temp\n",
        "#print(all_theta.shape) # all weights\n",
        "#print(P.shape) #hypothesis\n",
        "probabilities = []\n",
        "accuratepredicts = 0\n",
        "\n",
        "for i in range (len(P)):\n",
        "  if (P[i]>=0.5):\n",
        "    hypothesis=dx1\n",
        "  else:\n",
        "    hypothesis=dx2\n",
        "  probabilities.append(hypothesis)\n",
        "  #print(probabilities)\n",
        "\n",
        "  if (tslab.T[i] == probabilities[i]):\n",
        "    accuratepredicts+=1\n",
        "#print(accuratepredicts)\n",
        "\n",
        "acc=(accuratepredicts/len(P))*100  #accuracy\n",
        "print(\"Test Accuracy:\", acc , '%')\n",
        "\n",
        "# X-axis Predicted vs Y-axis Actual Values\n",
        "matplot.subplots(figsize=(10, 6))\n",
        "sb.heatmap(confusion_matrix(tslab, probabilities), annot = True, fmt = 'g')\n",
        "matplot.xlabel(\"Predicted\")\n",
        "matplot.ylabel(\"Actual\")\n",
        "matplot.title(\"Confusion Matrix\")\n",
        "matplot.show()\n",
        "\n",
        "from sklearn.metrics import precision_score\n",
        "from sklearn import metrics\n",
        "import pandas as pd\n",
        "import numpy as np\n",
        "from matplotlib import pyplot as plt\n",
        "import seaborn as sns\n",
        "\n",
        "precision = precision_score(tslab, probabilities, average='weighted')\n",
        "recall_sensitivity = metrics.recall_score(tslab, probabilities,average='weighted')\n",
        "f1_positive = metrics.f1_score(tslab, probabilities,average='weighted')\n",
        "specificity = metrics.recall_score(tslab, probabilities, pos_label=dx1)\n",
        "print('Precision: %.3f' % precision)\n",
        "print('Recall (sensitivity): %.3f' % recall_sensitivity)\n",
        "print('Specificity: %.3f' % specificity)\n",
        "print('F1_score: %.3f' % f1_positive)"
      ],
      "execution_count": null,
      "outputs": []
    }
  ]
}